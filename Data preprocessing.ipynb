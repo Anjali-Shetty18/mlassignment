{
 "cells": [
  {
   "cell_type": "code",
   "execution_count": 4,
   "id": "bbff160d",
   "metadata": {},
   "outputs": [
    {
     "name": "stdout",
     "output_type": "stream",
     "text": [
      "    Loan_ID  Gender Married Dependents     Education Self_Employed  \\\n",
      "0  LP002684  Female      No          0  Not Graduate            No   \n",
      "1  LP001907    Male     Yes          0      Graduate            No   \n",
      "2  LP001205    Male     Yes          0      Graduate            No   \n",
      "3  LP001275    Male     Yes          1      Graduate            No   \n",
      "4  LP002455    Male     Yes          2      Graduate            No   \n",
      "\n",
      "   ApplicantIncome  CoapplicantIncome  LoanAmount  Loan_Amount_Term  \\\n",
      "0             3400                  0          95               360   \n",
      "1            14583                  0         436               360   \n",
      "2             2500               3796         120               360   \n",
      "3             3988                  0          50               240   \n",
      "4             3859                  0          96               360   \n",
      "\n",
      "   Credit_History Property_Area  \n",
      "0               1         Rural  \n",
      "1               1     Semiurban  \n",
      "2               1         Urban  \n",
      "3               1         Urban  \n",
      "4               1     Semiurban  \n",
      "Loan_ID              int32\n",
      "Gender               int32\n",
      "Married              int32\n",
      "Dependents           int32\n",
      "Education            int32\n",
      "Self_Employed        int32\n",
      "ApplicantIncome      int64\n",
      "CoapplicantIncome    int64\n",
      "LoanAmount           int64\n",
      "Loan_Amount_Term     int64\n",
      "Credit_History       int64\n",
      "dtype: object\n"
     ]
    }
   ],
   "source": [
    "#DATA PREPROCESSING\n",
    "\n",
    "import pandas as pd\n",
    "from sklearn.model_selection import train_test_split\n",
    "from sklearn.preprocessing import StandardScaler, LabelEncoder\n",
    "\n",
    "file_path = r'C:\\Users\\Anjali Shetty\\Downloads\\X_test.csv'\n",
    "data = pd.read_csv(file_path)\n",
    "\n",
    "print(data.head())\n",
    "\n",
    "data = data.dropna()\n",
    "\n",
    "label_encoders = {}\n",
    "for column in data.select_dtypes(include=['object']).columns:\n",
    "    le = LabelEncoder()\n",
    "    data[column] = le.fit_transform(data[column])\n",
    "    label_encoders[column] = le\n",
    "\n",
    "X = data.iloc[:, :-1]\n",
    "y = data.iloc[:, -1]\n",
    "\n",
    "print(X.dtypes)\n",
    "\n",
    "X_train, X_test, y_train, y_test = train_test_split(X, y, test_size=0.2, random_state=42)\n",
    "\n",
    "\n",
    "scaler = StandardScaler()\n",
    "X_train = scaler.fit_transform(X_train)\n",
    "X_test = scaler.transform(X_test)\n"
   ]
  },
  {
   "cell_type": "code",
   "execution_count": null,
   "id": "8cd5cb2e",
   "metadata": {},
   "outputs": [],
   "source": []
  }
 ],
 "metadata": {
  "kernelspec": {
   "display_name": "Python 3 (ipykernel)",
   "language": "python",
   "name": "python3"
  },
  "language_info": {
   "codemirror_mode": {
    "name": "ipython",
    "version": 3
   },
   "file_extension": ".py",
   "mimetype": "text/x-python",
   "name": "python",
   "nbconvert_exporter": "python",
   "pygments_lexer": "ipython3",
   "version": "3.11.5"
  }
 },
 "nbformat": 4,
 "nbformat_minor": 5
}
