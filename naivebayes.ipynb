{
 "cells": [
  {
   "cell_type": "code",
   "execution_count": 13,
   "id": "9b9a20fa",
   "metadata": {},
   "outputs": [
    {
     "name": "stdout",
     "output_type": "stream",
     "text": [
      "Accuracy: 0.034482758620689655\n",
      "\n",
      "Classification Report:\n",
      "              precision    recall  f1-score   support\n",
      "\n",
      "          44       0.00      0.00      0.00         1\n",
      "          70       0.00      0.00      0.00         0\n",
      "          80       0.00      0.00      0.00         1\n",
      "          84       0.00      0.00      0.00         0\n",
      "          86       0.00      0.00      0.00         1\n",
      "          90       0.00      0.00      0.00         1\n",
      "          95       0.00      0.00      0.00         3\n",
      "          96       0.00      0.00      0.00         1\n",
      "         100       0.00      0.00      0.00         1\n",
      "         103       0.00      0.00      0.00         1\n",
      "         111       0.00      0.00      0.00         1\n",
      "         113       0.00      0.00      0.00         0\n",
      "         116       0.00      0.00      0.00         1\n",
      "         122       0.00      0.00      0.00         1\n",
      "         126       0.00      0.00      0.00         0\n",
      "         127       0.00      0.00      0.00         1\n",
      "         128       0.00      0.00      0.00         1\n",
      "         130       0.00      0.00      0.00         1\n",
      "         137       0.00      0.00      0.00         0\n",
      "         140       0.00      0.00      0.00         1\n",
      "         155       0.00      0.00      0.00         1\n",
      "         157       0.00      0.00      0.00         1\n",
      "         162       0.00      0.00      0.00         1\n",
      "         175       0.00      0.00      0.00         1\n",
      "         178       0.00      0.00      0.00         1\n",
      "         180       0.00      0.00      0.00         2\n",
      "         187       0.12      1.00      0.22         1\n",
      "         246       0.00      0.00      0.00         1\n",
      "         260       0.00      0.00      0.00         1\n",
      "         280       0.00      0.00      0.00         0\n",
      "         300       0.00      0.00      0.00         1\n",
      "         400       0.00      0.00      0.00         1\n",
      "\n",
      "    accuracy                           0.03        29\n",
      "   macro avg       0.00      0.03      0.01        29\n",
      "weighted avg       0.00      0.03      0.01        29\n",
      "\n"
     ]
    },
    {
     "name": "stderr",
     "output_type": "stream",
     "text": [
      "C:\\ProgramData\\anaconda3\\Lib\\site-packages\\sklearn\\metrics\\_classification.py:1469: UndefinedMetricWarning: Precision and F-score are ill-defined and being set to 0.0 in labels with no predicted samples. Use `zero_division` parameter to control this behavior.\n",
      "  _warn_prf(average, modifier, msg_start, len(result))\n",
      "C:\\ProgramData\\anaconda3\\Lib\\site-packages\\sklearn\\metrics\\_classification.py:1469: UndefinedMetricWarning: Recall and F-score are ill-defined and being set to 0.0 in labels with no true samples. Use `zero_division` parameter to control this behavior.\n",
      "  _warn_prf(average, modifier, msg_start, len(result))\n",
      "C:\\ProgramData\\anaconda3\\Lib\\site-packages\\sklearn\\metrics\\_classification.py:1469: UndefinedMetricWarning: Precision and F-score are ill-defined and being set to 0.0 in labels with no predicted samples. Use `zero_division` parameter to control this behavior.\n",
      "  _warn_prf(average, modifier, msg_start, len(result))\n",
      "C:\\ProgramData\\anaconda3\\Lib\\site-packages\\sklearn\\metrics\\_classification.py:1469: UndefinedMetricWarning: Recall and F-score are ill-defined and being set to 0.0 in labels with no true samples. Use `zero_division` parameter to control this behavior.\n",
      "  _warn_prf(average, modifier, msg_start, len(result))\n",
      "C:\\ProgramData\\anaconda3\\Lib\\site-packages\\sklearn\\metrics\\_classification.py:1469: UndefinedMetricWarning: Precision and F-score are ill-defined and being set to 0.0 in labels with no predicted samples. Use `zero_division` parameter to control this behavior.\n",
      "  _warn_prf(average, modifier, msg_start, len(result))\n",
      "C:\\ProgramData\\anaconda3\\Lib\\site-packages\\sklearn\\metrics\\_classification.py:1469: UndefinedMetricWarning: Recall and F-score are ill-defined and being set to 0.0 in labels with no true samples. Use `zero_division` parameter to control this behavior.\n",
      "  _warn_prf(average, modifier, msg_start, len(result))\n"
     ]
    }
   ],
   "source": [
    "import pandas as pd\n",
    "from sklearn.model_selection import train_test_split\n",
    "from sklearn.naive_bayes import GaussianNB\n",
    "from sklearn.metrics import accuracy_score, classification_report\n",
    "\n",
    "# Load the Dataset\n",
    "url = \"C:/Users/Anjali Shetty/Downloads/X_test.csv\"\n",
    "\n",
    "# Assuming these are the numeric columns you want to use\n",
    "column_names = ['ApplicantIncome', 'CoapplicantIncome', 'LoanAmount', 'Loan_Amount_Term', 'Credit_History']\n",
    "\n",
    "# Load data with specific columns\n",
    "df = pd.read_csv(url, usecols=column_names)\n",
    "\n",
    "# Split the Data\n",
    "X = df.drop('LoanAmount', axis=1)  # Features excluding the target variable\n",
    "y = df['LoanAmount']  # Target variable\n",
    "\n",
    "# Split the dataset into training and testing sets\n",
    "X_train, X_test, y_train, y_test = train_test_split(X, y, test_size=0.3, random_state=42)\n",
    "\n",
    "# Train the Model\n",
    "model = GaussianNB()\n",
    "model.fit(X_train, y_train)\n",
    "\n",
    "# Evaluate the Model\n",
    "y_pred = model.predict(X_test)\n",
    "accuracy = accuracy_score(y_test, y_pred)\n",
    "report = classification_report(y_test, y_pred)\n",
    "\n",
    "print(f\"Accuracy: {accuracy}\\n\")\n",
    "print(\"Classification Report:\")\n",
    "print(report)\n"
   ]
  },
  {
   "cell_type": "code",
   "execution_count": null,
   "id": "8d438cc4",
   "metadata": {},
   "outputs": [],
   "source": []
  }
 ],
 "metadata": {
  "kernelspec": {
   "display_name": "Python 3 (ipykernel)",
   "language": "python",
   "name": "python3"
  },
  "language_info": {
   "codemirror_mode": {
    "name": "ipython",
    "version": 3
   },
   "file_extension": ".py",
   "mimetype": "text/x-python",
   "name": "python",
   "nbconvert_exporter": "python",
   "pygments_lexer": "ipython3",
   "version": "3.11.5"
  }
 },
 "nbformat": 4,
 "nbformat_minor": 5
}
